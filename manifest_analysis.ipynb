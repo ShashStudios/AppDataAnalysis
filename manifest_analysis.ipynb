{
 "cells": [
  {
   "cell_type": "code",
   "execution_count": 4,
   "metadata": {},
   "outputs": [
    {
     "name": "stdout",
     "output_type": "stream",
     "text": [
      "/opt/homebrew/opt/python@3.11/bin/python3.11\n"
     ]
    }
   ],
   "source": [
    "import sys\n",
    "print(sys.executable)"
   ]
  },
  {
   "cell_type": "code",
   "execution_count": 1,
   "metadata": {},
   "outputs": [
    {
     "name": "stdout",
     "output_type": "stream",
     "text": [
      "Requirement already satisfied: pandas in /Library/Frameworks/Python.framework/Versions/3.13/lib/python3.13/site-packages (2.2.3)\n",
      "Requirement already satisfied: numpy>=1.26.0 in /Library/Frameworks/Python.framework/Versions/3.13/lib/python3.13/site-packages (from pandas) (2.2.5)\n",
      "Requirement already satisfied: python-dateutil>=2.8.2 in /Users/shashwat/Library/Python/3.13/lib/python/site-packages (from pandas) (2.9.0.post0)\n",
      "Requirement already satisfied: pytz>=2020.1 in /Library/Frameworks/Python.framework/Versions/3.13/lib/python3.13/site-packages (from pandas) (2025.2)\n",
      "Requirement already satisfied: tzdata>=2022.7 in /Library/Frameworks/Python.framework/Versions/3.13/lib/python3.13/site-packages (from pandas) (2025.2)\n",
      "Requirement already satisfied: six>=1.5 in /Users/shashwat/Library/Python/3.13/lib/python/site-packages (from python-dateutil>=2.8.2->pandas) (1.17.0)\n",
      "\n",
      "\u001b[1m[\u001b[0m\u001b[34;49mnotice\u001b[0m\u001b[1;39;49m]\u001b[0m\u001b[39;49m A new release of pip is available: \u001b[0m\u001b[31;49m24.3.1\u001b[0m\u001b[39;49m -> \u001b[0m\u001b[32;49m25.1.1\u001b[0m\n",
      "\u001b[1m[\u001b[0m\u001b[34;49mnotice\u001b[0m\u001b[1;39;49m]\u001b[0m\u001b[39;49m To update, run: \u001b[0m\u001b[32;49mpip3 install --upgrade pip\u001b[0m\n"
     ]
    }
   ],
   "source": [
    "!pip3 install pandas"
   ]
  },
  {
   "cell_type": "code",
   "execution_count": 3,
   "metadata": {},
   "outputs": [],
   "source": [
    "\n",
    "import os\n",
    "import xml.etree.ElementTree as ET\n",
    "import pandas as pd\n",
    "\n",
    "ANDROID_NS = \"http://schemas.android.com/apk/res/android\"\n",
    "MANIFEST_DIR = \"android-manifest-files\"\n",
    "\n",
    "\n",
    "\n"
   ]
  },
  {
   "cell_type": "code",
   "execution_count": 4,
   "metadata": {},
   "outputs": [],
   "source": [
    "def parse_manifest(filepath):\n",
    "    try:\n",
    "        tree = ET.parse(filepath)\n",
    "        root = tree.getroot()\n",
    "        app_package = root.attrib.get(\"package\")\n",
    "        queried_packages = []\n",
    "\n",
    "        for queries in root.findall(\"queries\"):\n",
    "            for pkg in queries.findall(\"package\"):\n",
    "                name = pkg.attrib.get(f\"{{{ANDROID_NS}}}name\")\n",
    "                if name:\n",
    "                    queried_packages.append(name)\n",
    "\n",
    "        return app_package, queried_packages\n",
    "    except:\n",
    "        return None, []\n"
   ]
  },
  {
   "cell_type": "code",
   "execution_count": 5,
   "metadata": {},
   "outputs": [
    {
     "name": "stdout",
     "output_type": "stream",
     "text": [
      "Extracted 3424 app → queried app relationships.\n"
     ]
    }
   ],
   "source": [
    "results = []\n",
    "\n",
    "for root, _, files in os.walk(MANIFEST_DIR):\n",
    "    for file in files:\n",
    "        if file.endswith(\"AndroidManifest.xml\"):\n",
    "            path = os.path.join(root, file)\n",
    "            app, queries = parse_manifest(path)\n",
    "            if app and queries:\n",
    "                for q in queries:\n",
    "                    results.append({\n",
    "                        \"app_package\": app,\n",
    "                        \"queried_package\": q\n",
    "                    })\n",
    "\n",
    "print(f\"Extracted {len(results)} app → queried app relationships.\")\n",
    "\n",
    "\n"
   ]
  },
  {
   "cell_type": "code",
   "execution_count": 7,
   "metadata": {},
   "outputs": [
    {
     "data": {
      "text/html": [
       "<div>\n",
       "<style scoped>\n",
       "    .dataframe tbody tr th:only-of-type {\n",
       "        vertical-align: middle;\n",
       "    }\n",
       "\n",
       "    .dataframe tbody tr th {\n",
       "        vertical-align: top;\n",
       "    }\n",
       "\n",
       "    .dataframe thead th {\n",
       "        text-align: right;\n",
       "    }\n",
       "</style>\n",
       "<table border=\"1\" class=\"dataframe\">\n",
       "  <thead>\n",
       "    <tr style=\"text-align: right;\">\n",
       "      <th></th>\n",
       "      <th>app_package</th>\n",
       "      <th>queried_package</th>\n",
       "    </tr>\n",
       "  </thead>\n",
       "  <tbody>\n",
       "    <tr>\n",
       "      <th>0</th>\n",
       "      <td>in.startv.hotstar</td>\n",
       "      <td>net.one97.paytm</td>\n",
       "    </tr>\n",
       "    <tr>\n",
       "      <th>1</th>\n",
       "      <td>in.startv.hotstar</td>\n",
       "      <td>com.google.android.gms.policy_cast_dynamite</td>\n",
       "    </tr>\n",
       "    <tr>\n",
       "      <th>2</th>\n",
       "      <td>in.startv.hotstar</td>\n",
       "      <td>androidx.test.orchestrator</td>\n",
       "    </tr>\n",
       "    <tr>\n",
       "      <th>3</th>\n",
       "      <td>in.startv.hotstar</td>\n",
       "      <td>androidx.test.services</td>\n",
       "    </tr>\n",
       "    <tr>\n",
       "      <th>4</th>\n",
       "      <td>in.startv.hotstar</td>\n",
       "      <td>com.google.android.apps.common.testing.services</td>\n",
       "    </tr>\n",
       "    <tr>\n",
       "      <th>...</th>\n",
       "      <td>...</td>\n",
       "      <td>...</td>\n",
       "    </tr>\n",
       "    <tr>\n",
       "      <th>995</th>\n",
       "      <td>com.whizdm.moneyview.loans</td>\n",
       "      <td>com.loangopro.bestloanapp</td>\n",
       "    </tr>\n",
       "    <tr>\n",
       "      <th>996</th>\n",
       "      <td>com.whizdm.moneyview.loans</td>\n",
       "      <td>com.Loanindiaon</td>\n",
       "    </tr>\n",
       "    <tr>\n",
       "      <th>997</th>\n",
       "      <td>com.whizdm.moneyview.loans</td>\n",
       "      <td>com.loanklub.cwtapp</td>\n",
       "    </tr>\n",
       "    <tr>\n",
       "      <th>998</th>\n",
       "      <td>com.whizdm.moneyview.loans</td>\n",
       "      <td>com.loanpelite.loanapp</td>\n",
       "    </tr>\n",
       "    <tr>\n",
       "      <th>999</th>\n",
       "      <td>com.whizdm.moneyview.loans</td>\n",
       "      <td>com.loans.cash.cal</td>\n",
       "    </tr>\n",
       "  </tbody>\n",
       "</table>\n",
       "<p>1000 rows × 2 columns</p>\n",
       "</div>"
      ],
      "text/plain": [
       "                    app_package  \\\n",
       "0             in.startv.hotstar   \n",
       "1             in.startv.hotstar   \n",
       "2             in.startv.hotstar   \n",
       "3             in.startv.hotstar   \n",
       "4             in.startv.hotstar   \n",
       "..                          ...   \n",
       "995  com.whizdm.moneyview.loans   \n",
       "996  com.whizdm.moneyview.loans   \n",
       "997  com.whizdm.moneyview.loans   \n",
       "998  com.whizdm.moneyview.loans   \n",
       "999  com.whizdm.moneyview.loans   \n",
       "\n",
       "                                     queried_package  \n",
       "0                                    net.one97.paytm  \n",
       "1        com.google.android.gms.policy_cast_dynamite  \n",
       "2                         androidx.test.orchestrator  \n",
       "3                             androidx.test.services  \n",
       "4    com.google.android.apps.common.testing.services  \n",
       "..                                               ...  \n",
       "995                        com.loangopro.bestloanapp  \n",
       "996                                  com.Loanindiaon  \n",
       "997                              com.loanklub.cwtapp  \n",
       "998                           com.loanpelite.loanapp  \n",
       "999                               com.loans.cash.cal  \n",
       "\n",
       "[1000 rows x 2 columns]"
      ]
     },
     "execution_count": 7,
     "metadata": {},
     "output_type": "execute_result"
    }
   ],
   "source": [
    "df = pd.DataFrame(results)\n",
    "df.head(1000)\n",
    "\n"
   ]
  },
  {
   "cell_type": "code",
   "execution_count": 8,
   "metadata": {},
   "outputs": [],
   "source": [
    "df.to_csv(\"app_query_relationships.csv\", index=False)\n",
    "df.to_json(\"app_query_relationships.json\", orient=\"records\", indent=2)\n",
    "\n"
   ]
  },
  {
   "cell_type": "code",
   "execution_count": 9,
   "metadata": {},
   "outputs": [],
   "source": [
    "import pandas as pd\n",
    "\n",
    "df = pd.read_csv(\"app_query_relationships.csv\")"
   ]
  },
  {
   "cell_type": "code",
   "execution_count": 11,
   "metadata": {},
   "outputs": [
    {
     "data": {
      "text/html": [
       "<div>\n",
       "<style scoped>\n",
       "    .dataframe tbody tr th:only-of-type {\n",
       "        vertical-align: middle;\n",
       "    }\n",
       "\n",
       "    .dataframe tbody tr th {\n",
       "        vertical-align: top;\n",
       "    }\n",
       "\n",
       "    .dataframe thead th {\n",
       "        text-align: right;\n",
       "    }\n",
       "</style>\n",
       "<table border=\"1\" class=\"dataframe\">\n",
       "  <thead>\n",
       "    <tr style=\"text-align: right;\">\n",
       "      <th></th>\n",
       "      <th>app_package</th>\n",
       "      <th>queried_package</th>\n",
       "    </tr>\n",
       "  </thead>\n",
       "  <tbody>\n",
       "    <tr>\n",
       "      <th>604</th>\n",
       "      <td>com.axis.mobile</td>\n",
       "      <td>com.tencent.mm</td>\n",
       "    </tr>\n",
       "    <tr>\n",
       "      <th>605</th>\n",
       "      <td>com.axis.mobile</td>\n",
       "      <td>com.whatsapp</td>\n",
       "    </tr>\n",
       "    <tr>\n",
       "      <th>606</th>\n",
       "      <td>com.axis.mobile</td>\n",
       "      <td>us.zoom.videomeetings</td>\n",
       "    </tr>\n",
       "    <tr>\n",
       "      <th>607</th>\n",
       "      <td>com.axis.mobile</td>\n",
       "      <td>com.google.android.gms.policy_cast_dynamite</td>\n",
       "    </tr>\n",
       "    <tr>\n",
       "      <th>608</th>\n",
       "      <td>com.axis.mobile</td>\n",
       "      <td>com.google.android.apps.maps</td>\n",
       "    </tr>\n",
       "    <tr>\n",
       "      <th>609</th>\n",
       "      <td>com.axis.mobile</td>\n",
       "      <td>com.facebook.katana</td>\n",
       "    </tr>\n",
       "    <tr>\n",
       "      <th>610</th>\n",
       "      <td>com.axis.mobile</td>\n",
       "      <td>com.instagram.android</td>\n",
       "    </tr>\n",
       "    <tr>\n",
       "      <th>611</th>\n",
       "      <td>com.axis.mobile</td>\n",
       "      <td>com.facebook.lite</td>\n",
       "    </tr>\n",
       "    <tr>\n",
       "      <th>612</th>\n",
       "      <td>com.axis.mobile</td>\n",
       "      <td>com.samsung.android.mapsagent</td>\n",
       "    </tr>\n",
       "    <tr>\n",
       "      <th>613</th>\n",
       "      <td>com.axis.mobile</td>\n",
       "      <td>com.android.vending</td>\n",
       "    </tr>\n",
       "  </tbody>\n",
       "</table>\n",
       "</div>"
      ],
      "text/plain": [
       "         app_package                              queried_package\n",
       "604  com.axis.mobile                               com.tencent.mm\n",
       "605  com.axis.mobile                                 com.whatsapp\n",
       "606  com.axis.mobile                        us.zoom.videomeetings\n",
       "607  com.axis.mobile  com.google.android.gms.policy_cast_dynamite\n",
       "608  com.axis.mobile                 com.google.android.apps.maps\n",
       "609  com.axis.mobile                          com.facebook.katana\n",
       "610  com.axis.mobile                        com.instagram.android\n",
       "611  com.axis.mobile                            com.facebook.lite\n",
       "612  com.axis.mobile                com.samsung.android.mapsagent\n",
       "613  com.axis.mobile                          com.android.vending"
      ]
     },
     "execution_count": 11,
     "metadata": {},
     "output_type": "execute_result"
    }
   ],
   "source": [
    "df[df[\"app_package\"].str.contains(\"axis\", case=False)]"
   ]
  },
  {
   "cell_type": "code",
   "execution_count": 12,
   "metadata": {},
   "outputs": [],
   "source": [
    "queried = df[\"queried_package\"].dropna().unique()\n",
    "pd.Series(queried).to_csv(\"all_queried_packages.csv\", index=False, header=[\"package\"])\n"
   ]
  },
  {
   "cell_type": "code",
   "execution_count": 19,
   "metadata": {},
   "outputs": [
    {
     "ename": "ModuleNotFoundError",
     "evalue": "No module named 'ace_tools'",
     "output_type": "error",
     "traceback": [
      "\u001b[31m---------------------------------------------------------------------------\u001b[39m",
      "\u001b[31mModuleNotFoundError\u001b[39m                       Traceback (most recent call last)",
      "\u001b[36mCell\u001b[39m\u001b[36m \u001b[39m\u001b[32mIn[19]\u001b[39m\u001b[32m, line 5\u001b[39m\n\u001b[32m      3\u001b[39m \u001b[38;5;28;01mimport\u001b[39;00m\u001b[38;5;250m \u001b[39m\u001b[34;01mseaborn\u001b[39;00m\u001b[38;5;250m \u001b[39m\u001b[38;5;28;01mas\u001b[39;00m\u001b[38;5;250m \u001b[39m\u001b[34;01msns\u001b[39;00m\n\u001b[32m      4\u001b[39m \u001b[38;5;28;01mfrom\u001b[39;00m\u001b[38;5;250m \u001b[39m\u001b[34;01mpathlib\u001b[39;00m\u001b[38;5;250m \u001b[39m\u001b[38;5;28;01mimport\u001b[39;00m Path\n\u001b[32m----> \u001b[39m\u001b[32m5\u001b[39m \u001b[38;5;28;01mimport\u001b[39;00m\u001b[38;5;250m \u001b[39m\u001b[34;01mace_tools\u001b[39;00m\u001b[38;5;250m \u001b[39m\u001b[38;5;28;01mas\u001b[39;00m\u001b[38;5;250m \u001b[39m\u001b[34;01mtools\u001b[39;00m\n\u001b[32m      7\u001b[39m \u001b[38;5;66;03m# Paths\u001b[39;00m\n\u001b[32m      8\u001b[39m rel_path = Path(\u001b[33m\"\u001b[39m\u001b[33mapp_query_relationships.csv\u001b[39m\u001b[33m\"\u001b[39m)\n",
      "\u001b[31mModuleNotFoundError\u001b[39m: No module named 'ace_tools'"
     ]
    }
   ],
   "source": [
    "import pandas as pd\n",
    "import matplotlib.pyplot as plt\n",
    "import seaborn as sns\n",
    "from pathlib import Path\n",
    "import ace_tools as tools\n",
    "\n",
    "# Paths\n",
    "rel_path = Path(\"app_query_relationships.csv\")\n",
    "cat_path = Path(\"app_categories.csv\")\n",
    "\n",
    "# Load data\n",
    "rel_df = pd.read_csv(rel_path)\n",
    "cat_df = pd.read_csv(cat_path)\n",
    "\n",
    "# Map package -> category and subcategory\n",
    "cat_map = cat_df.set_index(\"package\")[[\"category\", \"subcategory\"]]\n",
    "rel_df = rel_df.merge(cat_map, left_on=\"app_package\", right_index=True, how=\"left\", suffixes=(\"\", \"_source\"))\n",
    "rel_df = rel_df.merge(cat_map, left_on=\"queried_package\", right_index=True, how=\"left\", suffixes=(\"\", \"_target\"))\n",
    "\n",
    "# Rename for clarity\n",
    "rel_df.rename(columns={\"category\": \"source_category\",\n",
    "                       \"subcategory\": \"source_subcategory\",\n",
    "                       \"category_target\": \"target_category\",\n",
    "                       \"subcategory_target\": \"target_subcategory\"}, inplace=True)\n",
    "\n",
    "# Fill missing with 'unknown'\n",
    "rel_df[[\"source_category\", \"source_subcategory\", \"target_category\", \"target_subcategory\"]] = rel_df[\n",
    "    [\"source_category\", \"source_subcategory\", \"target_category\", \"target_subcategory\"]\n",
    "].fillna(\"unknown\")\n",
    "\n",
    "# ============== INSIGHT 1: Category → Category matrix (% of queries) ==============\n",
    "cat_matrix = rel_df.groupby([\"source_category\", \"target_category\"]).size().unstack(fill_value=0)\n",
    "cat_pct = cat_matrix.div(cat_matrix.sum(axis=1), axis=0) * 100\n",
    "cat_pct_rounded = cat_pct.round(1)\n",
    "\n",
    "# Display matrix to user\n",
    "tools.display_dataframe_to_user(\"Category_to_Category_%\", cat_pct_rounded)\n",
    "\n",
    "# ============== INSIGHT 2: Top querying apps ==============\n",
    "top_query_apps = rel_df.groupby(\"app_package\").size().sort_values(ascending=False).head(20)\n",
    "top_query_apps_df = top_query_apps.reset_index().rename(columns={0: \"num_queries\"})\n",
    "tools.display_dataframe_to_user(\"Top_20_Querying_Apps\", top_query_apps_df)\n",
    "\n",
    "# ============== INSIGHT 3: Bar chart of target categories overall ==============\n",
    "target_counts = rel_df[\"target_category\"].value_counts().head(10)\n",
    "plt.figure(figsize=(8,6))\n",
    "target_counts.plot(kind='bar')\n",
    "plt.title(\"Top Queried Categories (overall)\")\n",
    "plt.ylabel(\"Number of queries\")\n",
    "plt.xlabel(\"Target Category\")\n",
    "plt.tight_layout()\n",
    "plt.show()\n",
    "\n",
    "\n"
   ]
  }
 ],
 "metadata": {
  "kernelspec": {
   "display_name": "Python 3",
   "language": "python",
   "name": "python3"
  },
  "language_info": {
   "codemirror_mode": {
    "name": "ipython",
    "version": 3
   },
   "file_extension": ".py",
   "mimetype": "text/x-python",
   "name": "python",
   "nbconvert_exporter": "python",
   "pygments_lexer": "ipython3",
   "version": "3.11.12"
  }
 },
 "nbformat": 4,
 "nbformat_minor": 2
}
